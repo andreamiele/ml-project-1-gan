{
 "cells": [
  {
   "cell_type": "code",
   "execution_count": 42,
   "metadata": {},
   "outputs": [
    {
     "name": "stdout",
     "output_type": "stream",
     "text": [
      "   Id  _STATE  FMONTH     IDATE  IMONTH  IDAY  IYEAR  DISPCODE       SEQNO  \\\n",
      "0   0      53      11  11162015      11    16   2015      1100  2015015629   \n",
      "1   1      33      12  12152015      12    15   2015      1200  2015004387   \n",
      "2   2      20      10  10202015      10    20   2015      1100  2015005638   \n",
      "3   3      42       6   6182015       6    18   2015      1100  2015004694   \n",
      "4   4      24      11  11062015      11     6   2015      1100  2015004673   \n",
      "\n",
      "         _PSU  ...  _PAREC1  _PASTAE1  _LMTACT1  _LMTWRK1  _LMTSCL1  _RFSEAT2  \\\n",
      "0  2015015629  ...        1         1       3.0       3.0       4.0         1   \n",
      "1  2015004387  ...        9         9       3.0       3.0       4.0         9   \n",
      "2  2015005638  ...        4         2       2.0       2.0       3.0         1   \n",
      "3  2015004694  ...        2         2       2.0       2.0       3.0         1   \n",
      "4  2015004673  ...        9         9       3.0       3.0       4.0         1   \n",
      "\n",
      "   _RFSEAT3  _FLSHOT6  _PNEUMO2  _AIDTST3  \n",
      "0         1       NaN       NaN       2.0  \n",
      "1         9       NaN       NaN       NaN  \n",
      "2         1       1.0       2.0       2.0  \n",
      "3         1       2.0       2.0       2.0  \n",
      "4         1       9.0       9.0       2.0  \n",
      "\n",
      "[5 rows x 322 columns]\n"
     ]
    }
   ],
   "source": [
    "import pandas as pd\n",
    "df = pd.read_csv(\"dataset/x_train.csv\")\n",
    "\n",
    "df2 = pd.read_csv(\"dataset/x_test.csv\")\n",
    "\n",
    "y=np.genfromtxt(\"dataset/y_train.csv\", delimiter=',')\n",
    "print(df.head())"
   ]
  },
  {
   "cell_type": "code",
   "execution_count": 27,
   "metadata": {},
   "outputs": [
    {
     "name": "stdout",
     "output_type": "stream",
     "text": [
      "<class 'pandas.core.frame.DataFrame'>\n",
      "RangeIndex: 328135 entries, 0 to 328134\n",
      "Columns: 322 entries, Id to _AIDTST3\n",
      "dtypes: float64(244), int64(78)\n",
      "memory usage: 806.1 MB\n",
      "None\n"
     ]
    }
   ],
   "source": [
    "print(df.info())"
   ]
  },
  {
   "cell_type": "code",
   "execution_count": 28,
   "metadata": {},
   "outputs": [
    {
     "name": "stdout",
     "output_type": "stream",
     "text": [
      "Index(['Id', '_STATE', 'FMONTH', 'IDATE', 'IMONTH', 'IDAY', 'IYEAR',\n",
      "       'DISPCODE', 'SEQNO', '_PSU',\n",
      "       ...\n",
      "       '_PAREC1', '_PASTAE1', '_LMTACT1', '_LMTWRK1', '_LMTSCL1', '_RFSEAT2',\n",
      "       '_RFSEAT3', '_FLSHOT6', '_PNEUMO2', '_AIDTST3'],\n",
      "      dtype='object', length=322)\n"
     ]
    }
   ],
   "source": [
    "print(df.columns)"
   ]
  },
  {
   "cell_type": "code",
   "execution_count": 29,
   "metadata": {},
   "outputs": [
    {
     "name": "stdout",
     "output_type": "stream",
     "text": [
      "                  Id         _STATE         FMONTH         IDATE  \\\n",
      "count  328135.000000  328135.000000  328135.000000  3.281350e+05   \n",
      "mean   164067.000000      29.973651       6.360690  6.563638e+06   \n",
      "std     94724.559628      16.031777       3.487263  3.489248e+06   \n",
      "min         0.000000       1.000000       1.000000  1.012016e+06   \n",
      "25%     82033.500000      19.000000       3.000000  3.232015e+06   \n",
      "50%    164067.000000      29.000000       6.000000  6.242015e+06   \n",
      "75%    246100.500000      44.000000       9.000000  1.002202e+07   \n",
      "max    328134.000000      72.000000      12.000000  1.231202e+07   \n",
      "\n",
      "              IMONTH           IDAY          IYEAR       DISPCODE  \\\n",
      "count  328135.000000  328135.000000  328135.000000  328135.000000   \n",
      "mean        6.416661      14.496235    2015.024758    1115.014857   \n",
      "std         3.492739       8.334495       0.155387      35.721753   \n",
      "min         1.000000       1.000000    2015.000000    1100.000000   \n",
      "25%         3.000000       8.000000    2015.000000    1100.000000   \n",
      "50%         6.000000      14.000000    2015.000000    1100.000000   \n",
      "75%        10.000000      21.000000    2015.000000    1100.000000   \n",
      "max        12.000000      31.000000    2016.000000    1200.000000   \n",
      "\n",
      "              SEQNO          _PSU  ...        _PAREC1       _PASTAE1  \\\n",
      "count  3.281350e+05  3.281350e+05  ...  328135.000000  328135.000000   \n",
      "mean   2.015005e+09  2.015005e+09  ...       3.488567       2.737611   \n",
      "std    4.118475e+03  4.118475e+03  ...       2.395363       2.445086   \n",
      "min    2.015000e+09  2.015000e+09  ...       1.000000       1.000000   \n",
      "25%    2.015002e+09  2.015002e+09  ...       2.000000       2.000000   \n",
      "50%    2.015004e+09  2.015004e+09  ...       3.000000       2.000000   \n",
      "75%    2.015007e+09  2.015007e+09  ...       4.000000       2.000000   \n",
      "max    2.015023e+09  2.015023e+09  ...       9.000000       9.000000   \n",
      "\n",
      "            _LMTACT1       _LMTWRK1       _LMTSCL1       _RFSEAT2  \\\n",
      "count  326252.000000  326252.000000  326252.000000  328135.000000   \n",
      "mean        2.717093       2.814279       3.652698       1.820421   \n",
      "std         1.317887       1.348067       1.259353       2.355332   \n",
      "min         1.000000       1.000000       1.000000       1.000000   \n",
      "25%         2.000000       2.000000       3.000000       1.000000   \n",
      "50%         3.000000       3.000000       4.000000       1.000000   \n",
      "75%         3.000000       3.000000       4.000000       1.000000   \n",
      "max         9.000000       9.000000       9.000000       9.000000   \n",
      "\n",
      "            _RFSEAT3      _FLSHOT6       _PNEUMO2       _AIDTST3  \n",
      "count  328135.000000  116757.00000  116757.000000  296055.000000  \n",
      "mean        1.882390       2.28991       2.406794       1.966675  \n",
      "std         2.346068       2.51678       2.771851       1.434133  \n",
      "min         1.000000       1.00000       1.000000       1.000000  \n",
      "25%         1.000000       1.00000       1.000000       1.000000  \n",
      "50%         1.000000       1.00000       1.000000       2.000000  \n",
      "75%         1.000000       2.00000       2.000000       2.000000  \n",
      "max         9.000000       9.00000       9.000000       9.000000  \n",
      "\n",
      "[8 rows x 322 columns]\n"
     ]
    }
   ],
   "source": [
    "print(df.describe())"
   ]
  },
  {
   "cell_type": "code",
   "execution_count": 44,
   "metadata": {},
   "outputs": [
    {
     "name": "stdout",
     "output_type": "stream",
     "text": [
      "        _RFHYPE5  TOLDHI2  _BMI5  SMOKE100  CVDSTRK3  DIABETE3  _TOTINDA  \\\n",
      "0              1        2     20         1         2         3         1   \n",
      "1              2        2     28         1         2         3         9   \n",
      "2              1        1     99         1         2         3         1   \n",
      "3              1        2     27         1         2         3         1   \n",
      "4              1        2     24         1         2         3         1   \n",
      "...          ...      ...    ...       ...       ...       ...       ...   \n",
      "328130         2        2     24         1         2         3         1   \n",
      "328131         1        2     24         1         2         3         1   \n",
      "328132         1        1     58         2         2         3         1   \n",
      "328133         1        2     35         2         2         3         1   \n",
      "328134         2        2     22         2         2         3         1   \n",
      "\n",
      "        _FRTLT1  _VEGLT1  _RFDRHV5  HLTHPLN1  MEDCOST  GENHLTH  MENTHLTH  \\\n",
      "0             2        1         1         1        2        2         5   \n",
      "1             9        9         9         1        2        4        88   \n",
      "2             1        1         1         1        2        2        77   \n",
      "3             2        1         1         1        2        1        88   \n",
      "4             1        1         9         1        2        2        88   \n",
      "...         ...      ...       ...       ...      ...      ...       ...   \n",
      "328130        1        1         1         1        2        2        88   \n",
      "328131        1        1         1         1        2        1        88   \n",
      "328132        1        2         1         1        2        3         1   \n",
      "328133        2        2         1         1        2        3        88   \n",
      "328134        1        1         1         1        1        2         7   \n",
      "\n",
      "        PHYSHLTH  DIFFWALK  SEX  EDUCA  INCOME2  \n",
      "0              1         2    2      5        8  \n",
      "1             88         2    1      4        7  \n",
      "2             77         2    2      6       99  \n",
      "3             88         2    2      4       99  \n",
      "4             88         2    1      9       99  \n",
      "...          ...       ...  ...    ...      ...  \n",
      "328130        88         2    1      6        8  \n",
      "328131        88         2    1      5        8  \n",
      "328132        88         1    2      5        3  \n",
      "328133        88         2    1      4        8  \n",
      "328134         7         2    2      6        8  \n",
      "\n",
      "[328135 rows x 19 columns]\n"
     ]
    },
    {
     "data": {
      "text/plain": [
       "INCOME2\n",
       "7    101976\n",
       "8     86314\n",
       "6     38827\n",
       "5     29217\n",
       "4     24059\n",
       "3     19762\n",
       "2     14431\n",
       "1     13549\n",
       "dtype: int64"
      ]
     },
     "execution_count": 44,
     "metadata": {},
     "output_type": "execute_result"
    }
   ],
   "source": [
    "df= df[[ \n",
    "                                         '_RFHYPE5',  \n",
    "                                         'TOLDHI2',\n",
    "                                         '_BMI5', \n",
    "                                         'SMOKE100', \n",
    "                                         'CVDSTRK3', 'DIABETE3', \n",
    "                                         '_TOTINDA', \n",
    "                                         '_FRTLT1', '_VEGLT1', \n",
    "                                         '_RFDRHV5', \n",
    "                                         'HLTHPLN1', 'MEDCOST', \n",
    "                                         'GENHLTH', 'MENTHLTH', 'PHYSHLTH', 'DIFFWALK', \n",
    "                                         'SEX', 'EDUCA', 'INCOME2' ]]\n",
    "import numpy as np\n",
    "\n",
    "\n",
    "\n",
    "\n",
    "df.fillna(value = 99, \n",
    "          inplace = True)\n",
    "print(df)\n",
    "\n",
    "df2 =df2[[ \n",
    "                                         '_RFHYPE5',  \n",
    "                                         'TOLDHI2',\n",
    "                                         '_BMI5', \n",
    "                                         'SMOKE100', \n",
    "                                         'CVDSTRK3', 'DIABETE3', \n",
    "                                         '_TOTINDA', \n",
    "                                         '_FRTLT1', '_VEGLT1', \n",
    "                                         '_RFDRHV5', \n",
    "                                         'HLTHPLN1', 'MEDCOST', \n",
    "                                         'GENHLTH', 'MENTHLTH', 'PHYSHLTH', 'DIFFWALK', \n",
    "                                         'SEX', 'EDUCA', 'INCOME2' ]]\n",
    "df2.fillna(value = 99, \n",
    "          inplace = True)\n",
    "\n",
    "df = df.astype('int')\n",
    "df2 = df2.astype('int')\n",
    "brfss_df_selected=df\n",
    "# 1 _RFHYPE5\n",
    "# Change 1 to 0 so it represetnts No high blood pressure and 2 to 1 so it represents high blood pressure\n",
    "\n",
    "brfss_df_selected.replace([9,99])\n",
    "brfss_df_selected[\"MENTHLTH\"] = brfss_df_selected[\"MENTHLTH\"].replace({99: 9})\n",
    "brfss_df_selected.replace([77,99])\n",
    "brfss_df_selected.replace([7,99])\n",
    "brfss_df_selected[\"INCOME2\"] = brfss_df_selected[\"INCOME2\"].replace({77: 99})\n",
    "brfss_df_selected[\"MENTHLTH\"] = brfss_df_selected[\"MENTHLTH\"].replace({99: 7})\n",
    "brfss_df_selected[\"INCOME2\"] = brfss_df_selected[\"INCOME2\"].replace({99: 7})\n",
    "brfss_df_selected[\"MENTHLTH\"] = brfss_df_selected[\"MENTHLTH\"].replace({88: 99})\n",
    "brfss_df_selected[\"_BMI5\"] = brfss_df_selected[\"_BMI5\"].div(100).round(0)\n",
    "brfss_df_selected[\"DIABETE3\"] = brfss_df_selected[\"DIABETE3\"].replace(\n",
    "    {2: 0, 3: 0, 1: 2, 4: 1}\n",
    ")\n",
    "\n",
    "\n",
    "df=brfss_df_selected\n",
    "\n",
    "brfss_df_selected=df2\n",
    "# 1 _RFHYPE5\n",
    "# Change 1 to 0 so it represetnts No high blood pressure and 2 to 1 so it represents high blood pressure\n",
    "\n",
    "brfss_df_selected.replace([9,99])\n",
    "brfss_df_selected[\"MENTHLTH\"] = brfss_df_selected[\"MENTHLTH\"].replace({99: 9})\n",
    "\n",
    "brfss_df_selected.replace([7,99])\n",
    "brfss_df_selected.replace([77,99])\n",
    "brfss_df_selected[\"MENTHLTH\"] = brfss_df_selected[\"MENTHLTH\"].replace({99: 7})\n",
    "brfss_df_selected[\"INCOME2\"] = brfss_df_selected[\"INCOME2\"].replace({99: 7})\n",
    "brfss_df_selected[\"INCOME2\"] = brfss_df_selected[\"INCOME2\"].replace({77: 99})\n",
    "brfss_df_selected[\"MENTHLTH\"] = brfss_df_selected[\"MENTHLTH\"].replace({88: 99})\n",
    "brfss_df_selected[\"_BMI5\"] = brfss_df_selected[\"_BMI5\"].div(100).round(0)\n",
    "brfss_df_selected[\"DIABETE3\"] = brfss_df_selected[\"DIABETE3\"].replace(\n",
    "    {2: 0, 3: 0, 1: 2, 4: 1}\n",
    ")\n",
    "\n",
    "df2=brfss_df_selected\n",
    "\n",
    "\n",
    "df.value_counts(\"INCOME2\")\n"
   ]
  },
  {
   "cell_type": "code",
   "execution_count": 17,
   "metadata": {},
   "outputs": [],
   "source": [
    "\n",
    "\n",
    "x=['BPMEDS',\n",
    " '_RFHYPE5',\n",
    " 'EMPLOY1','_TOTINDA','_BMI5','_FRTLT1', '_VEGLT1','_RFDRHV5', \n",
    "                                         'HLTHPLN1', 'MEDCOST', \n",
    "                                         'GENHLTH', 'MENTHLTH', 'PHYSHLTH','EDUCA', 'INCOME2',\n",
    " 'GENHLTH',\n",
    " '_RFCHOL',\n",
    " '_AGE80',\n",
    " 'SEX',\n",
    " 'CVDSTRK3',\n",
    " 'DIFFWALK',\n",
    " 'MAXVO2_',\n",
    " 'CHCCOPD1',\n",
    " 'PNEUVAC3',\n",
    " 'QLACTLM2',\n",
    " 'HAREHAB1',\n",
    " 'TOLDHI2',\n",
    " 'SMOKE100',\n",
    " 'CHOLCHK',\n",
    " 'CHCKIDNY',\n",
    " 'CVDASPRN',\n",
    " 'DIABETE3',\n",
    " 'ASPUNSAF',\n",
    " '_SMOKER3',\n",
    " '_DRDXAR1',\n",
    " '_RFSEAT2',\n",
    " 'VIPRFVS2',\n",
    " 'USEEQUIP',\n",
    " 'INTERNET',\n",
    " 'DRADVISE',\n",
    " 'PERSDOC2',\n",
    " 'BPHIGH4']"
   ]
  },
  {
   "cell_type": "code",
   "execution_count": 51,
   "metadata": {},
   "outputs": [
    {
     "name": "stdout",
     "output_type": "stream",
     "text": [
      "Index(['_RFHYPE5_1', '_RFHYPE5_2', '_RFHYPE5_9', 'TOLDHI2_1', 'TOLDHI2_2',\n",
      "       'TOLDHI2_7', 'TOLDHI2_9', 'TOLDHI2_99', '_BMI5_0.0', '_BMI5_1.0',\n",
      "       ...\n",
      "       'EDUCA_6', 'EDUCA_9', 'INCOME2_1', 'INCOME2_2', 'INCOME2_3',\n",
      "       'INCOME2_4', 'INCOME2_5', 'INCOME2_6', 'INCOME2_7', 'INCOME2_8'],\n",
      "      dtype='object', length=141)\n",
      "Index(['_RFHYPE5_1', '_RFHYPE5_2', '_RFHYPE5_9', 'TOLDHI2_1', 'TOLDHI2_2',\n",
      "       'TOLDHI2_7', 'TOLDHI2_9', 'TOLDHI2_99', '_BMI5_0.0', '_BMI5_1.0',\n",
      "       ...\n",
      "       'EDUCA_9', 'INCOME2_1', 'INCOME2_2', 'INCOME2_3', 'INCOME2_4',\n",
      "       'INCOME2_5', 'INCOME2_6', 'INCOME2_7', 'INCOME2_8', 'INCOME2_99'],\n",
      "      dtype='object', length=140)\n"
     ]
    }
   ],
   "source": [
    "one_hot_encoded_data = pd.get_dummies(df, columns=[ \n",
    "                                         '_RFHYPE5',  \n",
    "                                         'TOLDHI2',\n",
    "                                         '_BMI5', \n",
    "                                         'SMOKE100', \n",
    "                                         'CVDSTRK3', 'DIABETE3', \n",
    "                                         '_TOTINDA', \n",
    "                                         '_FRTLT1', '_VEGLT1', \n",
    "                                         '_RFDRHV5', \n",
    "                                         'HLTHPLN1', 'MEDCOST', \n",
    "                                         'GENHLTH', 'MENTHLTH', 'PHYSHLTH', 'DIFFWALK', \n",
    "                                         'SEX', 'EDUCA', 'INCOME2' ])\n",
    "\n",
    "one_hot_encoded_data2 = pd.get_dummies(df2, columns=[ \n",
    "                                         '_RFHYPE5',  \n",
    "                                         'TOLDHI2',\n",
    "                                         '_BMI5', \n",
    "                                         'SMOKE100', \n",
    "                                         'CVDSTRK3', 'DIABETE3', \n",
    "                                         '_TOTINDA', \n",
    "                                         '_FRTLT1', '_VEGLT1', \n",
    "                                         '_RFDRHV5', \n",
    "                                         'HLTHPLN1', 'MEDCOST', \n",
    "                                         'GENHLTH', 'MENTHLTH', 'PHYSHLTH', 'DIFFWALK', \n",
    "                                         'SEX', 'EDUCA', 'INCOME2' ])\n",
    "\n",
    "print(one_hot_encoded_data.columns)\n",
    "print(one_hot_encoded_data2.columns)\n",
    "one_hot_encoded_data2.drop(columns=['INCOME2_99'], inplace=True)\n",
    "one_hot_encoded_data.drop(columns=['GENHLTH_99'], inplace=True)\n",
    "one_hot_encoded_data.drop(columns=['MEDCOST_99'], inplace=True)"
   ]
  },
  {
   "cell_type": "code",
   "execution_count": 52,
   "metadata": {},
   "outputs": [],
   "source": [
    "one_hot_encoded_data.to_csv('dataset/xPRE.csv', index= False)\n",
    "one_hot_encoded_data2.to_csv('dataset/xTPre.csv', index= False)\n"
   ]
  },
  {
   "cell_type": "code",
   "execution_count": 3,
   "metadata": {},
   "outputs": [
    {
     "name": "stdout",
     "output_type": "stream",
     "text": [
      "Collecting scikit-learn\n",
      "  Downloading scikit_learn-1.3.1-cp39-cp39-macosx_12_0_arm64.whl (9.5 MB)\n",
      "\u001b[2K     \u001b[90m━━━━━━━━━━━━━━━━━━━━━━━━━━━━━━━━━━━━━━━━\u001b[0m \u001b[32m9.5/9.5 MB\u001b[0m \u001b[31m15.4 MB/s\u001b[0m eta \u001b[36m0:00:00\u001b[0m00:01\u001b[0m00:01\u001b[0m\n",
      "\u001b[?25hCollecting threadpoolctl>=2.0.0\n",
      "  Downloading threadpoolctl-3.2.0-py3-none-any.whl (15 kB)\n",
      "Requirement already satisfied: scipy>=1.5.0 in /Users/andreamiele/miniforge3/lib/python3.9/site-packages (from scikit-learn) (1.8.0)\n",
      "Collecting joblib>=1.1.1\n",
      "  Downloading joblib-1.3.2-py3-none-any.whl (302 kB)\n",
      "\u001b[2K     \u001b[90m━━━━━━━━━━━━━━━━━━━━━━━━━━━━━━━━━━━━━━\u001b[0m \u001b[32m302.2/302.2 KB\u001b[0m \u001b[31m23.7 MB/s\u001b[0m eta \u001b[36m0:00:00\u001b[0m\n",
      "\u001b[?25hRequirement already satisfied: numpy<2.0,>=1.17.3 in /Users/andreamiele/miniforge3/lib/python3.9/site-packages (from scikit-learn) (1.21.5)\n",
      "Installing collected packages: threadpoolctl, joblib, scikit-learn\n",
      "Successfully installed joblib-1.3.2 scikit-learn-1.3.1 threadpoolctl-3.2.0\n"
     ]
    },
    {
     "ename": "ImportError",
     "evalue": "\n\nIMPORTANT: PLEASE READ THIS FOR ADVICE ON HOW TO SOLVE THIS ISSUE!\n\nImporting the numpy C-extensions failed. This error can happen for\nmany reasons, often due to issues with your setup or how NumPy was\ninstalled.\n\nWe have compiled some common reasons and troubleshooting tips at:\n\n    https://numpy.org/devdocs/user/troubleshooting-importerror.html\n\nPlease note and check the following:\n\n  * The Python version is: Python3.9 from \"/Users/andreamiele/miniforge3/bin/python\"\n  * The NumPy version is: \"1.21.5\"\n\nand make sure that they are the versions you expect.\nPlease carefully study the documentation linked above for further help.\n\nOriginal error was: dlopen(/Users/andreamiele/miniforge3/lib/python3.9/site-packages/numpy/core/_multiarray_umath.cpython-39-darwin.so, 0x0002): Library not loaded: @rpath/libcblas.3.dylib\n  Referenced from: <C022CC59-54A4-37E5-A113-07BEFAC86F8F> /Users/andreamiele/miniforge3/lib/python3.9/site-packages/numpy/core/_multiarray_umath.cpython-39-darwin.so\n  Reason: tried: '/Users/andreamiele/miniforge3/lib/python3.9/site-packages/numpy/core/../../../../libcblas.3.dylib' (no such file), '/Users/andreamiele/miniforge3/lib/python3.9/site-packages/numpy/core/../../../../libcblas.3.dylib' (no such file), '/Users/andreamiele/miniforge3/bin/../lib/libcblas.3.dylib' (no such file), '/Users/andreamiele/miniforge3/bin/../lib/libcblas.3.dylib' (no such file), '/usr/local/lib/libcblas.3.dylib' (no such file), '/usr/lib/libcblas.3.dylib' (no such file, not in dyld cache)\n",
     "output_type": "error",
     "traceback": [
      "\u001b[0;31m---------------------------------------------------------------------------\u001b[0m",
      "\u001b[0;31mImportError\u001b[0m                               Traceback (most recent call last)",
      "File \u001b[0;32m~/miniforge3/lib/python3.9/site-packages/numpy/core/__init__.py:22\u001b[0m, in \u001b[0;36m<module>\u001b[0;34m\u001b[0m\n\u001b[1;32m     <a href='file:///~/miniforge3/lib/python3.9/site-packages/numpy/core/__init__.py?line=20'>21</a>\u001b[0m \u001b[39mtry\u001b[39;00m:\n\u001b[0;32m---> <a href='file:///~/miniforge3/lib/python3.9/site-packages/numpy/core/__init__.py?line=21'>22</a>\u001b[0m     \u001b[39mfrom\u001b[39;00m \u001b[39m.\u001b[39;00m \u001b[39mimport\u001b[39;00m multiarray\n\u001b[1;32m     <a href='file:///~/miniforge3/lib/python3.9/site-packages/numpy/core/__init__.py?line=22'>23</a>\u001b[0m \u001b[39mexcept\u001b[39;00m \u001b[39mImportError\u001b[39;00m \u001b[39mas\u001b[39;00m exc:\n",
      "File \u001b[0;32m~/miniforge3/lib/python3.9/site-packages/numpy/core/multiarray.py:12\u001b[0m, in \u001b[0;36m<module>\u001b[0;34m\u001b[0m\n\u001b[1;32m     <a href='file:///~/miniforge3/lib/python3.9/site-packages/numpy/core/multiarray.py?line=9'>10</a>\u001b[0m \u001b[39mimport\u001b[39;00m \u001b[39mwarnings\u001b[39;00m\n\u001b[0;32m---> <a href='file:///~/miniforge3/lib/python3.9/site-packages/numpy/core/multiarray.py?line=11'>12</a>\u001b[0m \u001b[39mfrom\u001b[39;00m \u001b[39m.\u001b[39;00m \u001b[39mimport\u001b[39;00m overrides\n\u001b[1;32m     <a href='file:///~/miniforge3/lib/python3.9/site-packages/numpy/core/multiarray.py?line=12'>13</a>\u001b[0m \u001b[39mfrom\u001b[39;00m \u001b[39m.\u001b[39;00m \u001b[39mimport\u001b[39;00m _multiarray_umath\n",
      "File \u001b[0;32m~/miniforge3/lib/python3.9/site-packages/numpy/core/overrides.py:7\u001b[0m, in \u001b[0;36m<module>\u001b[0;34m\u001b[0m\n\u001b[1;32m      <a href='file:///~/miniforge3/lib/python3.9/site-packages/numpy/core/overrides.py?line=4'>5</a>\u001b[0m \u001b[39mimport\u001b[39;00m \u001b[39mtextwrap\u001b[39;00m\n\u001b[0;32m----> <a href='file:///~/miniforge3/lib/python3.9/site-packages/numpy/core/overrides.py?line=6'>7</a>\u001b[0m \u001b[39mfrom\u001b[39;00m \u001b[39mnumpy\u001b[39;00m\u001b[39m.\u001b[39;00m\u001b[39mcore\u001b[39;00m\u001b[39m.\u001b[39;00m\u001b[39m_multiarray_umath\u001b[39;00m \u001b[39mimport\u001b[39;00m (\n\u001b[1;32m      <a href='file:///~/miniforge3/lib/python3.9/site-packages/numpy/core/overrides.py?line=7'>8</a>\u001b[0m     add_docstring, implement_array_function, _get_implementing_args)\n\u001b[1;32m      <a href='file:///~/miniforge3/lib/python3.9/site-packages/numpy/core/overrides.py?line=8'>9</a>\u001b[0m \u001b[39mfrom\u001b[39;00m \u001b[39mnumpy\u001b[39;00m\u001b[39m.\u001b[39;00m\u001b[39mcompat\u001b[39;00m\u001b[39m.\u001b[39;00m\u001b[39m_inspect\u001b[39;00m \u001b[39mimport\u001b[39;00m getargspec\n",
      "\u001b[0;31mImportError\u001b[0m: dlopen(/Users/andreamiele/miniforge3/lib/python3.9/site-packages/numpy/core/_multiarray_umath.cpython-39-darwin.so, 0x0002): Library not loaded: @rpath/libcblas.3.dylib\n  Referenced from: <C022CC59-54A4-37E5-A113-07BEFAC86F8F> /Users/andreamiele/miniforge3/lib/python3.9/site-packages/numpy/core/_multiarray_umath.cpython-39-darwin.so\n  Reason: tried: '/Users/andreamiele/miniforge3/lib/python3.9/site-packages/numpy/core/../../../../libcblas.3.dylib' (no such file), '/Users/andreamiele/miniforge3/lib/python3.9/site-packages/numpy/core/../../../../libcblas.3.dylib' (no such file), '/Users/andreamiele/miniforge3/bin/../lib/libcblas.3.dylib' (no such file), '/Users/andreamiele/miniforge3/bin/../lib/libcblas.3.dylib' (no such file), '/usr/local/lib/libcblas.3.dylib' (no such file), '/usr/lib/libcblas.3.dylib' (no such file, not in dyld cache)",
      "\nDuring handling of the above exception, another exception occurred:\n",
      "\u001b[0;31mImportError\u001b[0m                               Traceback (most recent call last)",
      "\u001b[1;32m/Users/andreamiele/ml-project-1-gan/feature_analysis.ipynb Cell 9'\u001b[0m in \u001b[0;36m<cell line: 2>\u001b[0;34m()\u001b[0m\n\u001b[1;32m      <a href='vscode-notebook-cell:/Users/andreamiele/ml-project-1-gan/feature_analysis.ipynb#ch0000011?line=0'>1</a>\u001b[0m get_ipython()\u001b[39m.\u001b[39msystem(\u001b[39m'\u001b[39m\u001b[39mpip install scikit-learn\u001b[39m\u001b[39m'\u001b[39m)\n\u001b[0;32m----> <a href='vscode-notebook-cell:/Users/andreamiele/ml-project-1-gan/feature_analysis.ipynb#ch0000011?line=1'>2</a>\u001b[0m \u001b[39mfrom\u001b[39;00m \u001b[39msklearn\u001b[39;00m\u001b[39m.\u001b[39;00m\u001b[39mlinear_model\u001b[39;00m \u001b[39mimport\u001b[39;00m LogisticRegression\n\u001b[1;32m      <a href='vscode-notebook-cell:/Users/andreamiele/ml-project-1-gan/feature_analysis.ipynb#ch0000011?line=2'>3</a>\u001b[0m \u001b[39mfrom\u001b[39;00m \u001b[39mhelpers\u001b[39;00m \u001b[39mimport\u001b[39;00m \u001b[39m*\u001b[39m\n\u001b[1;32m      <a href='vscode-notebook-cell:/Users/andreamiele/ml-project-1-gan/feature_analysis.ipynb#ch0000011?line=3'>4</a>\u001b[0m \u001b[39mfrom\u001b[39;00m \u001b[39mimblearn\u001b[39;00m\u001b[39m.\u001b[39;00m\u001b[39mover_sampling\u001b[39;00m \u001b[39mimport\u001b[39;00m SMOTE\n",
      "File \u001b[0;32m~/miniforge3/lib/python3.9/site-packages/sklearn/__init__.py:83\u001b[0m, in \u001b[0;36m<module>\u001b[0;34m\u001b[0m\n\u001b[1;32m     <a href='file:///~/miniforge3/lib/python3.9/site-packages/sklearn/__init__.py?line=68'>69</a>\u001b[0m     \u001b[39m# We are not importing the rest of scikit-learn during the build\u001b[39;00m\n\u001b[1;32m     <a href='file:///~/miniforge3/lib/python3.9/site-packages/sklearn/__init__.py?line=69'>70</a>\u001b[0m     \u001b[39m# process, as it may not be compiled yet\u001b[39;00m\n\u001b[1;32m     <a href='file:///~/miniforge3/lib/python3.9/site-packages/sklearn/__init__.py?line=70'>71</a>\u001b[0m \u001b[39melse\u001b[39;00m:\n\u001b[0;32m   (...)\u001b[0m\n\u001b[1;32m     <a href='file:///~/miniforge3/lib/python3.9/site-packages/sklearn/__init__.py?line=76'>77</a>\u001b[0m     \u001b[39m# later is linked to the OpenMP runtime to make it possible to introspect\u001b[39;00m\n\u001b[1;32m     <a href='file:///~/miniforge3/lib/python3.9/site-packages/sklearn/__init__.py?line=77'>78</a>\u001b[0m     \u001b[39m# it and importing it first would fail if the OpenMP dll cannot be found.\u001b[39;00m\n\u001b[1;32m     <a href='file:///~/miniforge3/lib/python3.9/site-packages/sklearn/__init__.py?line=78'>79</a>\u001b[0m     \u001b[39mfrom\u001b[39;00m \u001b[39m.\u001b[39;00m \u001b[39mimport\u001b[39;00m (\n\u001b[1;32m     <a href='file:///~/miniforge3/lib/python3.9/site-packages/sklearn/__init__.py?line=79'>80</a>\u001b[0m         __check_build,  \u001b[39m# noqa: F401\u001b[39;00m\n\u001b[1;32m     <a href='file:///~/miniforge3/lib/python3.9/site-packages/sklearn/__init__.py?line=80'>81</a>\u001b[0m         _distributor_init,  \u001b[39m# noqa: F401\u001b[39;00m\n\u001b[1;32m     <a href='file:///~/miniforge3/lib/python3.9/site-packages/sklearn/__init__.py?line=81'>82</a>\u001b[0m     )\n\u001b[0;32m---> <a href='file:///~/miniforge3/lib/python3.9/site-packages/sklearn/__init__.py?line=82'>83</a>\u001b[0m     \u001b[39mfrom\u001b[39;00m \u001b[39m.\u001b[39;00m\u001b[39mbase\u001b[39;00m \u001b[39mimport\u001b[39;00m clone\n\u001b[1;32m     <a href='file:///~/miniforge3/lib/python3.9/site-packages/sklearn/__init__.py?line=83'>84</a>\u001b[0m     \u001b[39mfrom\u001b[39;00m \u001b[39m.\u001b[39;00m\u001b[39mutils\u001b[39;00m\u001b[39m.\u001b[39;00m\u001b[39m_show_versions\u001b[39;00m \u001b[39mimport\u001b[39;00m show_versions\n\u001b[1;32m     <a href='file:///~/miniforge3/lib/python3.9/site-packages/sklearn/__init__.py?line=85'>86</a>\u001b[0m     __all__ \u001b[39m=\u001b[39m [\n\u001b[1;32m     <a href='file:///~/miniforge3/lib/python3.9/site-packages/sklearn/__init__.py?line=86'>87</a>\u001b[0m         \u001b[39m\"\u001b[39m\u001b[39mcalibration\u001b[39m\u001b[39m\"\u001b[39m,\n\u001b[1;32m     <a href='file:///~/miniforge3/lib/python3.9/site-packages/sklearn/__init__.py?line=87'>88</a>\u001b[0m         \u001b[39m\"\u001b[39m\u001b[39mcluster\u001b[39m\u001b[39m\"\u001b[39m,\n\u001b[0;32m   (...)\u001b[0m\n\u001b[1;32m    <a href='file:///~/miniforge3/lib/python3.9/site-packages/sklearn/__init__.py?line=128'>129</a>\u001b[0m         \u001b[39m\"\u001b[39m\u001b[39mshow_versions\u001b[39m\u001b[39m\"\u001b[39m,\n\u001b[1;32m    <a href='file:///~/miniforge3/lib/python3.9/site-packages/sklearn/__init__.py?line=129'>130</a>\u001b[0m     ]\n",
      "File \u001b[0;32m~/miniforge3/lib/python3.9/site-packages/sklearn/base.py:14\u001b[0m, in \u001b[0;36m<module>\u001b[0;34m\u001b[0m\n\u001b[1;32m     <a href='file:///~/miniforge3/lib/python3.9/site-packages/sklearn/base.py?line=10'>11</a>\u001b[0m \u001b[39mimport\u001b[39;00m \u001b[39mwarnings\u001b[39;00m\n\u001b[1;32m     <a href='file:///~/miniforge3/lib/python3.9/site-packages/sklearn/base.py?line=11'>12</a>\u001b[0m \u001b[39mfrom\u001b[39;00m \u001b[39mcollections\u001b[39;00m \u001b[39mimport\u001b[39;00m defaultdict\n\u001b[0;32m---> <a href='file:///~/miniforge3/lib/python3.9/site-packages/sklearn/base.py?line=13'>14</a>\u001b[0m \u001b[39mimport\u001b[39;00m \u001b[39mnumpy\u001b[39;00m \u001b[39mas\u001b[39;00m \u001b[39mnp\u001b[39;00m\n\u001b[1;32m     <a href='file:///~/miniforge3/lib/python3.9/site-packages/sklearn/base.py?line=15'>16</a>\u001b[0m \u001b[39mfrom\u001b[39;00m \u001b[39m.\u001b[39;00m \u001b[39mimport\u001b[39;00m __version__\n\u001b[1;32m     <a href='file:///~/miniforge3/lib/python3.9/site-packages/sklearn/base.py?line=16'>17</a>\u001b[0m \u001b[39mfrom\u001b[39;00m \u001b[39m.\u001b[39;00m\u001b[39m_config\u001b[39;00m \u001b[39mimport\u001b[39;00m config_context, get_config\n",
      "File \u001b[0;32m~/miniforge3/lib/python3.9/site-packages/numpy/__init__.py:150\u001b[0m, in \u001b[0;36m<module>\u001b[0;34m\u001b[0m\n\u001b[1;32m    <a href='file:///~/miniforge3/lib/python3.9/site-packages/numpy/__init__.py?line=146'>147</a>\u001b[0m \u001b[39m# Allow distributors to run custom init code\u001b[39;00m\n\u001b[1;32m    <a href='file:///~/miniforge3/lib/python3.9/site-packages/numpy/__init__.py?line=147'>148</a>\u001b[0m \u001b[39mfrom\u001b[39;00m \u001b[39m.\u001b[39;00m \u001b[39mimport\u001b[39;00m _distributor_init\n\u001b[0;32m--> <a href='file:///~/miniforge3/lib/python3.9/site-packages/numpy/__init__.py?line=149'>150</a>\u001b[0m \u001b[39mfrom\u001b[39;00m \u001b[39m.\u001b[39;00m \u001b[39mimport\u001b[39;00m core\n\u001b[1;32m    <a href='file:///~/miniforge3/lib/python3.9/site-packages/numpy/__init__.py?line=150'>151</a>\u001b[0m \u001b[39mfrom\u001b[39;00m \u001b[39m.\u001b[39;00m\u001b[39mcore\u001b[39;00m \u001b[39mimport\u001b[39;00m \u001b[39m*\u001b[39m\n\u001b[1;32m    <a href='file:///~/miniforge3/lib/python3.9/site-packages/numpy/__init__.py?line=151'>152</a>\u001b[0m \u001b[39mfrom\u001b[39;00m \u001b[39m.\u001b[39;00m \u001b[39mimport\u001b[39;00m compat\n",
      "File \u001b[0;32m~/miniforge3/lib/python3.9/site-packages/numpy/core/__init__.py:48\u001b[0m, in \u001b[0;36m<module>\u001b[0;34m\u001b[0m\n\u001b[1;32m     <a href='file:///~/miniforge3/lib/python3.9/site-packages/numpy/core/__init__.py?line=23'>24</a>\u001b[0m     \u001b[39mimport\u001b[39;00m \u001b[39msys\u001b[39;00m\n\u001b[1;32m     <a href='file:///~/miniforge3/lib/python3.9/site-packages/numpy/core/__init__.py?line=24'>25</a>\u001b[0m     msg \u001b[39m=\u001b[39m \u001b[39m\"\"\"\u001b[39m\n\u001b[1;32m     <a href='file:///~/miniforge3/lib/python3.9/site-packages/numpy/core/__init__.py?line=25'>26</a>\u001b[0m \n\u001b[1;32m     <a href='file:///~/miniforge3/lib/python3.9/site-packages/numpy/core/__init__.py?line=26'>27</a>\u001b[0m \u001b[39mIMPORTANT: PLEASE READ THIS FOR ADVICE ON HOW TO SOLVE THIS ISSUE!\u001b[39m\n\u001b[0;32m   (...)\u001b[0m\n\u001b[1;32m     <a href='file:///~/miniforge3/lib/python3.9/site-packages/numpy/core/__init__.py?line=45'>46</a>\u001b[0m \u001b[39m\"\"\"\u001b[39m \u001b[39m%\u001b[39m (sys\u001b[39m.\u001b[39mversion_info[\u001b[39m0\u001b[39m], sys\u001b[39m.\u001b[39mversion_info[\u001b[39m1\u001b[39m], sys\u001b[39m.\u001b[39mexecutable,\n\u001b[1;32m     <a href='file:///~/miniforge3/lib/python3.9/site-packages/numpy/core/__init__.py?line=46'>47</a>\u001b[0m         __version__, exc)\n\u001b[0;32m---> <a href='file:///~/miniforge3/lib/python3.9/site-packages/numpy/core/__init__.py?line=47'>48</a>\u001b[0m     \u001b[39mraise\u001b[39;00m \u001b[39mImportError\u001b[39;00m(msg)\n\u001b[1;32m     <a href='file:///~/miniforge3/lib/python3.9/site-packages/numpy/core/__init__.py?line=48'>49</a>\u001b[0m \u001b[39mfinally\u001b[39;00m:\n\u001b[1;32m     <a href='file:///~/miniforge3/lib/python3.9/site-packages/numpy/core/__init__.py?line=49'>50</a>\u001b[0m     \u001b[39mfor\u001b[39;00m envkey \u001b[39min\u001b[39;00m env_added:\n",
      "\u001b[0;31mImportError\u001b[0m: \n\nIMPORTANT: PLEASE READ THIS FOR ADVICE ON HOW TO SOLVE THIS ISSUE!\n\nImporting the numpy C-extensions failed. This error can happen for\nmany reasons, often due to issues with your setup or how NumPy was\ninstalled.\n\nWe have compiled some common reasons and troubleshooting tips at:\n\n    https://numpy.org/devdocs/user/troubleshooting-importerror.html\n\nPlease note and check the following:\n\n  * The Python version is: Python3.9 from \"/Users/andreamiele/miniforge3/bin/python\"\n  * The NumPy version is: \"1.21.5\"\n\nand make sure that they are the versions you expect.\nPlease carefully study the documentation linked above for further help.\n\nOriginal error was: dlopen(/Users/andreamiele/miniforge3/lib/python3.9/site-packages/numpy/core/_multiarray_umath.cpython-39-darwin.so, 0x0002): Library not loaded: @rpath/libcblas.3.dylib\n  Referenced from: <C022CC59-54A4-37E5-A113-07BEFAC86F8F> /Users/andreamiele/miniforge3/lib/python3.9/site-packages/numpy/core/_multiarray_umath.cpython-39-darwin.so\n  Reason: tried: '/Users/andreamiele/miniforge3/lib/python3.9/site-packages/numpy/core/../../../../libcblas.3.dylib' (no such file), '/Users/andreamiele/miniforge3/lib/python3.9/site-packages/numpy/core/../../../../libcblas.3.dylib' (no such file), '/Users/andreamiele/miniforge3/bin/../lib/libcblas.3.dylib' (no such file), '/Users/andreamiele/miniforge3/bin/../lib/libcblas.3.dylib' (no such file), '/usr/local/lib/libcblas.3.dylib' (no such file), '/usr/lib/libcblas.3.dylib' (no such file, not in dyld cache)\n"
     ]
    }
   ],
   "source": [
    "!pip install scikit-learn\n",
    "from sklearn.linear_model import LogisticRegression\n",
    "from helpers import *\n",
    "from imblearn.over_sampling import SMOTE\n",
    "from sklearn.feature_selection import SelectKBest\n",
    "from sklearn.feature_selection import f_classif, chi2\n",
    "from sklearn.impute import SimpleImputer\n",
    "from imblearn.over_sampling import SMOTE\n",
    "from imblearn.under_sampling import RandomUnderSampler\n",
    "from imblearn.pipeline import Pipeline\n",
    "import pandas as pd\n",
    "from sklearn.metrics import (\n",
    "    confusion_matrix,\n",
    "    accuracy_score,\n",
    "    precision_score,\n",
    "    recall_score,\n",
    "    f1_score,\n",
    "    get_scorer_names,\n",
    ")"
   ]
  },
  {
   "cell_type": "code",
   "execution_count": 22,
   "metadata": {},
   "outputs": [
    {
     "ename": "NameError",
     "evalue": "name 'load_csv_data' is not defined",
     "output_type": "error",
     "traceback": [
      "\u001b[0;31m---------------------------------------------------------------------------\u001b[0m",
      "\u001b[0;31mNameError\u001b[0m                                 Traceback (most recent call last)",
      "\u001b[1;32m/Users/andreamiele/ml-project-1-gan/feature_analysis.ipynb Cell 9'\u001b[0m in \u001b[0;36m<module>\u001b[0;34m\u001b[0m\n\u001b[0;32m----> <a href='vscode-notebook-cell:/Users/andreamiele/ml-project-1-gan/feature_analysis.ipynb#ch0000008?line=0'>1</a>\u001b[0m x, x_test, y, _, test_ids \u001b[39m=\u001b[39m load_csv_data(\u001b[39m\"\u001b[39m\u001b[39mdataset/\u001b[39m\u001b[39m\"\u001b[39m)\n\u001b[1;32m      <a href='vscode-notebook-cell:/Users/andreamiele/ml-project-1-gan/feature_analysis.ipynb#ch0000008?line=1'>2</a>\u001b[0m test_ids \u001b[39m=\u001b[39m test_ids\u001b[39m.\u001b[39mastype(dtype\u001b[39m=\u001b[39m\u001b[39mint\u001b[39m)\n\u001b[1;32m      <a href='vscode-notebook-cell:/Users/andreamiele/ml-project-1-gan/feature_analysis.ipynb#ch0000008?line=2'>3</a>\u001b[0m x\u001b[39m=\u001b[39mone_hot_encoded_data\n",
      "\u001b[0;31mNameError\u001b[0m: name 'load_csv_data' is not defined"
     ]
    }
   ],
   "source": [
    "x, x_test, y, _, test_ids = load_csv_data(\"dataset/\")\n",
    "test_ids = test_ids.astype(dtype=int)\n",
    "x=one_hot_encoded_data\n",
    "x_test=one_hot_encoded_data2"
   ]
  },
  {
   "cell_type": "code",
   "execution_count": null,
   "metadata": {},
   "outputs": [],
   "source": [
    "over = SMOTE(sampling_strategy=0.2)\n",
    "under = RandomUnderSampler(sampling_strategy=0.4)\n",
    "steps = [(\"o\", over), (\"u\", under)]\n",
    "pipeline = Pipeline(steps=steps)\n",
    "x, y = pipeline.fit_resample(x, y)"
   ]
  },
  {
   "cell_type": "code",
   "execution_count": null,
   "metadata": {},
   "outputs": [],
   "source": [
    "from sklearn.linear_model import SGDClassifier\n",
    "\n",
    "clf = SGDClassifier(\n",
    "    loss=\"log_loss\",\n",
    "    penalty=None,\n",
    "    alpha=0.0001,\n",
    "    max_iter=400,\n",
    "    tol=0.00001,\n",
    "    shuffle=True,\n",
    "    verbose=0,\n",
    "    random_state=1,\n",
    "    learning_rate=\"optimal\",\n",
    "    eta0=0.0,\n",
    ")\n",
    "clf.fit(x, y)\n",
    "\n",
    "\n",
    "predict = clf.predict(x_test)\n",
    "print(\"pred -1: \" + str(np.count_nonzero(predict == -1)))\n",
    "create_csv_submission(\n",
    "    test_ids, predict, \"y_predSGDLOGRED.csv\"\n",
    ")  # F1: 0.338    | Acc: 0.848"
   ]
  }
 ],
 "metadata": {
  "interpreter": {
   "hash": "4c653d2a01c614ab503650683a166050ec957b980b2267e640c04d3fc64e5d33"
  },
  "kernelspec": {
   "display_name": "Python 3.8.12 ('tf_m1')",
   "language": "python",
   "name": "python3"
  },
  "language_info": {
   "codemirror_mode": {
    "name": "ipython",
    "version": 3
   },
   "file_extension": ".py",
   "mimetype": "text/x-python",
   "name": "python",
   "nbconvert_exporter": "python",
   "pygments_lexer": "ipython3",
   "version": "3.8.12"
  },
  "orig_nbformat": 4
 },
 "nbformat": 4,
 "nbformat_minor": 2
}
